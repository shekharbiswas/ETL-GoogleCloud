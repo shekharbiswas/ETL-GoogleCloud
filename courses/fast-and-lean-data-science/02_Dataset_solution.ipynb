{
 "cells": [
  {
   "cell_type": "markdown",
   "metadata": {
    "colab_type": "text",
    "id": "89B27-TGiDNB"
   },
   "source": [
    "## Imports"
   ]
  },
  {
   "cell_type": "code",
   "execution_count": 1,
   "metadata": {
    "colab": {
     "base_uri": "https://localhost:8080/",
     "height": 51
    },
    "colab_type": "code",
    "id": "U6rgexPXmY37",
    "outputId": "ca72737a-7102-4c9b-aab1-60a5455155ff"
   },
   "outputs": [
    {
     "name": "stdout",
     "output_type": "stream",
     "text": [
      "Tensorflow version 2.2.0-dlenv\n"
     ]
    }
   ],
   "source": [
    "import os, sys, math\n",
    "import numpy as np\n",
    "from matplotlib import pyplot as plt\n",
    "import tensorflow as tf\n",
    "print(\"Tensorflow version \" + tf.__version__)"
   ]
  },
  {
   "cell_type": "code",
   "execution_count": 2,
   "metadata": {
    "cellView": "form",
    "colab": {},
    "colab_type": "code",
    "id": "MPkvHdAYNt9J"
   },
   "outputs": [],
   "source": [
    "#@title \"display utilities [RUN ME]\"\n",
    "def display_9_images_from_dataset(dataset):\n",
    "  plt.figure(figsize=(13,13))\n",
    "  subplot=331\n",
    "  for i, (image, label) in enumerate(dataset):\n",
    "    plt.subplot(subplot)\n",
    "    plt.axis('off')\n",
    "    plt.imshow(image.numpy().astype(np.uint8))\n",
    "    plt.title(label.numpy().decode(\"utf-8\"), fontsize=16)\n",
    "    subplot += 1\n",
    "    if i==8:\n",
    "      break\n",
    "  plt.tight_layout()\n",
    "  plt.subplots_adjust(wspace=0.1, hspace=0.1)\n",
    "  plt.show()"
   ]
  },
  {
   "cell_type": "markdown",
   "metadata": {
    "colab_type": "text",
    "id": "w9S3uKC_iXY5"
   },
   "source": [
    "## Configuration"
   ]
  },
  {
   "cell_type": "code",
   "execution_count": 3,
   "metadata": {
    "colab": {},
    "colab_type": "code",
    "id": "d8K6hL_kiWve"
   },
   "outputs": [],
   "source": [
    "GCS_PATTERN = 'gs://flowers-public/*/*.jpg'\n",
    "CLASSES = ['daisy', 'dandelion', 'roses', 'sunflowers', 'tulips'] # flower labels (folder names in the data)"
   ]
  },
  {
   "cell_type": "markdown",
   "metadata": {
    "colab_type": "text",
    "id": "kvPXiovhi3ZZ"
   },
   "source": [
    "## Read images and labels [WORK WAS REQUIRED HERE]\n",
    "1. Use `fileset=`[`tf.data.Dataset.list_files`](https://www.tensorflow.org/api_docs/python/tf/data/Dataset#list_files) to scan the data folder\n",
    "1. Iterate through the dataset of filenames: `for filename in fileset:...` . \n",
    " * Does it work ? Yes, but if you print the filename you get Tensors containing strings.\n",
    " * To display the string only, you can use filename.numpy(). This works on any Tensorflow tensor.\n",
    " * tip: to limit the size of the dataset for display, you can use [`Dataset.take()`](https://www.tensorflow.org/api_docs/python/tf/data/Dataset#take). Like this: `for data in dataset.take(10): ....`\n",
    "1. Use [`tf.data.Dataset.map`](https://www.tensorflow.org/api_docs/python/tf/data/Dataset#map) to decode the JPEG files. You will find useful TF code snippets below.\n",
    " * Iterate on the image dataset. You can use .numpy().shape to only see the data sizes.\n",
    "  * Are all images of the same size ?\n",
    "1. Now create a training dataset: you have images but you also need labels:\n",
    " *  the labels (flower names) are the directory names. You will find useful TF code snippets below for parsing them.\n",
    " * If you do \"`return image, label`\" in the decoding function, you will have a Dataset of pairs (image, label).\n",
    "1. You can see the flowers and their labels with the `display_9_images_from_dataset` function. It expects the Dataset to have `(image, label)` elements."
   ]
  },
  {
   "cell_type": "code",
   "execution_count": null,
   "metadata": {
    "colab": {
     "base_uri": "https://localhost:8080/",
     "height": 1000
    },
    "colab_type": "code",
    "id": "nwsZ8X59mu24",
    "outputId": "b6704167-d495-48a8-a059-2ceb2964b331"
   },
   "outputs": [
    {
     "name": "stdout",
     "output_type": "stream",
     "text": [
      "Pattern matches 3670 images.\n",
      "gs://flowers-public/tulips/17295127995_62eff434fe_n.jpg\n",
      "gs://flowers-public/dandelion/3459346147_faffff51c7_n.jpg\n",
      "gs://flowers-public/sunflowers/12282924083_fb80aa17d4_n.jpg\n",
      "gs://flowers-public/tulips/13923539227_bdab038dc8.jpg\n",
      "gs://flowers-public/daisy/2838487505_6c3b48efa5_m.jpg\n",
      "gs://flowers-public/roses/9216321995_83df405ea9.jpg\n",
      "gs://flowers-public/sunflowers/9206376642_8348ba5c7a.jpg\n",
      "gs://flowers-public/dandelion/8719388716_1a392c4c0e_n.jpg\n",
      "gs://flowers-public/sunflowers/3893436870_034b79d118_n.jpg\n",
      "gs://flowers-public/dandelion/18238604119_a5689980ee_n.jpg\n",
      "(234, 320, 3)\n",
      "(218, 320, 3)\n",
      "(236, 320, 3)\n",
      "(240, 180, 3)\n",
      "(240, 320, 3)\n",
      "(240, 320, 3)\n",
      "(212, 320, 3)\n",
      "(273, 320, 3)\n",
      "(281, 500, 3)\n",
      "(375, 500, 3)\n",
      "(213, 320, 3) roses\n",
      "(333, 500, 3) tulips\n",
      "(240, 320, 3) dandelion\n",
      "(333, 500, 3) daisy\n",
      "(320, 500, 3) daisy\n",
      "(332, 500, 3) sunflowers\n",
      "(240, 320, 3) sunflowers\n",
      "(334, 500, 3) tulips\n",
      "(333, 500, 3) tulips\n",
      "(251, 320, 3) roses\n"
     ]
    }
   ],
   "source": [
    "nb_images = len(tf.io.gfile.glob(GCS_PATTERN))\n",
    "print(\"Pattern matches {} images.\".format(nb_images))\n",
    "\n",
    "### QUESTIONS 1. and 2.\n",
    "filenames_dataset = tf.data.Dataset.list_files(GCS_PATTERN)\n",
    "for filename in filenames_dataset.take(10):\n",
    "  print(filename.numpy().decode('utf-8'))\n",
    "  \n",
    "### QUESTION 3.\n",
    "\n",
    "# copy-pasted from \"useful code snippets\" below\n",
    "def decode_jpeg(filename):\n",
    "  bits = tf.io.read_file(filename)\n",
    "  image = tf.image.decode_jpeg(bits)\n",
    "  return image\n",
    "\n",
    "image_dataset = filenames_dataset.map(decode_jpeg)\n",
    "for image in image_dataset.take(10):\n",
    "  print(image.numpy().shape)\n",
    "  \n",
    "### QUESTION 4.\n",
    "\n",
    "# copy-pasted from \"useful code snippets\" below\n",
    "def decode_jpeg_and_label(filename):\n",
    "  bits = tf.io.read_file(filename)\n",
    "  image = tf.image.decode_jpeg(bits)\n",
    "  label = tf.strings.split(tf.expand_dims(filename, axis=-1), sep='/')\n",
    "  label = label.values[-2]\n",
    "  return image, label\n",
    "\n",
    "dataset = filenames_dataset.map(decode_jpeg_and_label)\n",
    "for image, label in dataset.take(10):\n",
    "  print(image.numpy().shape, label.numpy().decode('utf-8'))\n",
    "\n",
    "  ### QUESTION 5.\n",
    "display_9_images_from_dataset(dataset)"
   ]
  },
  {
   "cell_type": "markdown",
   "metadata": {
    "colab_type": "text",
    "id": "ZX6Vg0YZwRCP"
   },
   "source": [
    "## Useful code snippets"
   ]
  },
  {
   "cell_type": "markdown",
   "metadata": {
    "colab_type": "text",
    "id": "FszNm593wnky"
   },
   "source": [
    "### Decode a JPEG in Tensorflow"
   ]
  },
  {
   "cell_type": "code",
   "execution_count": null,
   "metadata": {
    "colab": {},
    "colab_type": "code",
    "id": "pmPz2WM2wTbS"
   },
   "outputs": [],
   "source": [
    "def decode_jpeg(filename):\n",
    "  bits = tf.io.read_file(filename)\n",
    "  image = tf.image.decode_jpeg(bits)\n",
    "  return image"
   ]
  },
  {
   "cell_type": "markdown",
   "metadata": {
    "colab_type": "text",
    "id": "Dax9B6W7wuxt"
   },
   "source": [
    "### Decode a JPEG and extract folder name in Tensorflow"
   ]
  },
  {
   "cell_type": "code",
   "execution_count": null,
   "metadata": {
    "colab": {},
    "colab_type": "code",
    "id": "kPhQl3BlxB7D"
   },
   "outputs": [],
   "source": [
    "def decode_jpeg_and_label(filename):\n",
    "  bits = tf.io.read_file(filename)\n",
    "  image = tf.image.decode_jpeg(bits)\n",
    "  # parse flower name from containing directory\n",
    "  label = tf.strings.split(tf.expand_dims(filename, axis=-1), sep='/')\n",
    "  label = label.values[-2]\n",
    "  return image, label"
   ]
  },
  {
   "cell_type": "markdown",
   "metadata": {
    "colab_type": "text",
    "id": "5ckxPlkp9JGt"
   },
   "source": [
    "## License\n",
    "\n",
    "\n",
    "\n",
    "---\n",
    "\n",
    "\n",
    "author: Martin Gorner<br>\n",
    "twitter: @martin_gorner\n",
    "\n",
    "\n",
    "---\n",
    "\n",
    "\n",
    "Copyright 2020 Google LLC\n",
    "\n",
    "Licensed under the Apache License, Version 2.0 (the \"License\");\n",
    "you may not use this file except in compliance with the License.\n",
    "You may obtain a copy of the License at\n",
    "\n",
    "    http://www.apache.org/licenses/LICENSE-2.0\n",
    "\n",
    "Unless required by applicable law or agreed to in writing, software\n",
    "distributed under the License is distributed on an \"AS IS\" BASIS,\n",
    "WITHOUT WARRANTIES OR CONDITIONS OF ANY KIND, either express or implied.\n",
    "See the License for the specific language governing permissions and\n",
    "limitations under the License.\n",
    "\n",
    "\n",
    "---\n",
    "\n",
    "\n",
    "This is not an official Google product but sample code provided for an educational purpose\n"
   ]
  }
 ],
 "metadata": {
  "colab": {
   "collapsed_sections": [],
   "name": "Fun with tf.data.Dataset (solution).ipynb",
   "provenance": [],
   "toc_visible": true
  },
  "environment": {
   "name": "tf22-cpu.2-2.m47",
   "type": "gcloud",
   "uri": "gcr.io/deeplearning-platform-release/tf22-cpu.2-2:m47"
  },
  "kernelspec": {
   "display_name": "Python 3",
   "language": "python",
   "name": "python3"
  },
  "language_info": {
   "codemirror_mode": {
    "name": "ipython",
    "version": 3
   },
   "file_extension": ".py",
   "mimetype": "text/x-python",
   "name": "python",
   "nbconvert_exporter": "python",
   "pygments_lexer": "ipython3",
   "version": "3.7.6"
  }
 },
 "nbformat": 4,
 "nbformat_minor": 4
}
